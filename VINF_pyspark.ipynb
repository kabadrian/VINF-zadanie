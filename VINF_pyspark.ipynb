{
 "cells": [
  {
   "cell_type": "code",
   "execution_count": 1,
   "id": "d081750e",
   "metadata": {
    "pycharm": {
     "name": "#%%\n"
    }
   },
   "outputs": [
    {
     "name": "stdout",
     "output_type": "stream",
     "text": [
      "22/12/03 17:52:22 WARN Utils: Your hostname, Adrians-MacBook-Air.local resolves to a loopback address: 127.0.0.1; using 192.168.0.183 instead (on interface en0)\n",
      "22/12/03 17:52:22 WARN Utils: Set SPARK_LOCAL_IP if you need to bind to another address\n",
      "22/12/03 17:52:23 WARN NativeCodeLoader: Unable to load native-hadoop library for your platform... using builtin-java classes where applicable\n"
     ]
    },
    {
     "name": "stderr",
     "output_type": "stream",
     "text": [
      "Exception in thread \"main\" org.apache.spark.SparkException: Failed to get main class in JAR with error 'File spark-shell does not exist'.  Please specify one with --class.\n",
      "\tat org.apache.spark.deploy.SparkSubmit.error(SparkSubmit.scala:975)\n",
      "\tat org.apache.spark.deploy.SparkSubmit.prepareSubmitEnvironment(SparkSubmit.scala:486)\n",
      "\tat org.apache.spark.deploy.SparkSubmit.org$apache$spark$deploy$SparkSubmit$$runMain(SparkSubmit.scala:901)\n",
      "\tat org.apache.spark.deploy.SparkSubmit.doRunMain$1(SparkSubmit.scala:180)\n",
      "\tat org.apache.spark.deploy.SparkSubmit.submit(SparkSubmit.scala:203)\n",
      "\tat org.apache.spark.deploy.SparkSubmit.doSubmit(SparkSubmit.scala:90)\n",
      "\tat org.apache.spark.deploy.SparkSubmit$$anon$2.doSubmit(SparkSubmit.scala:1046)\n",
      "\tat org.apache.spark.deploy.SparkSubmit$.main(SparkSubmit.scala:1055)\n",
      "\tat org.apache.spark.deploy.SparkSubmit.main(SparkSubmit.scala)\n"
     ]
    },
    {
     "ename": "RuntimeError",
     "evalue": "Java gateway process exited before sending its port number",
     "output_type": "error",
     "traceback": [
      "\u001B[0;31m---------------------------------------------------------------------------\u001B[0m",
      "\u001B[0;31mRuntimeError\u001B[0m                              Traceback (most recent call last)",
      "Cell \u001B[0;32mIn [1], line 13\u001B[0m\n\u001B[1;32m      9\u001B[0m \u001B[38;5;28;01mimport\u001B[39;00m \u001B[38;5;21;01mos\u001B[39;00m\n\u001B[1;32m     11\u001B[0m os\u001B[38;5;241m.\u001B[39menviron[\u001B[38;5;124m'\u001B[39m\u001B[38;5;124mPYSPARK_SUBMIT_ARGS\u001B[39m\u001B[38;5;124m'\u001B[39m] \u001B[38;5;241m=\u001B[39m \u001B[38;5;124m'\u001B[39m\u001B[38;5;124mspark-shell --packages com.databricks:spark-xml_2.11:0.12.0\u001B[39m\u001B[38;5;124m'\u001B[39m\n\u001B[0;32m---> 13\u001B[0m spark \u001B[38;5;241m=\u001B[39m \u001B[43mSparkSession\u001B[49m\u001B[38;5;241;43m.\u001B[39;49m\u001B[43mbuilder\u001B[49m\u001B[38;5;241;43m.\u001B[39;49m\u001B[43mmaster\u001B[49m\u001B[43m(\u001B[49m\u001B[38;5;124;43m'\u001B[39;49m\u001B[38;5;124;43mlocal[*]\u001B[39;49m\u001B[38;5;124;43m'\u001B[39;49m\u001B[43m)\u001B[49m\u001B[38;5;241;43m.\u001B[39;49m\u001B[43mappName\u001B[49m\u001B[43m(\u001B[49m\u001B[38;5;124;43m'\u001B[39;49m\u001B[38;5;124;43mVINF\u001B[39;49m\u001B[38;5;124;43m'\u001B[39;49m\u001B[43m)\u001B[49m\u001B[38;5;241;43m.\u001B[39;49m\u001B[43mgetOrCreate\u001B[49m\u001B[43m(\u001B[49m\u001B[43m)\u001B[49m\n",
      "File \u001B[0;32m~/PycharmProjects/pythonProject/venv/lib/python3.8/site-packages/pyspark/sql/session.py:269\u001B[0m, in \u001B[0;36mSparkSession.Builder.getOrCreate\u001B[0;34m(self)\u001B[0m\n\u001B[1;32m    267\u001B[0m     sparkConf\u001B[38;5;241m.\u001B[39mset(key, value)\n\u001B[1;32m    268\u001B[0m \u001B[38;5;66;03m# This SparkContext may be an existing one.\u001B[39;00m\n\u001B[0;32m--> 269\u001B[0m sc \u001B[38;5;241m=\u001B[39m \u001B[43mSparkContext\u001B[49m\u001B[38;5;241;43m.\u001B[39;49m\u001B[43mgetOrCreate\u001B[49m\u001B[43m(\u001B[49m\u001B[43msparkConf\u001B[49m\u001B[43m)\u001B[49m\n\u001B[1;32m    270\u001B[0m \u001B[38;5;66;03m# Do not update `SparkConf` for existing `SparkContext`, as it's shared\u001B[39;00m\n\u001B[1;32m    271\u001B[0m \u001B[38;5;66;03m# by all sessions.\u001B[39;00m\n\u001B[1;32m    272\u001B[0m session \u001B[38;5;241m=\u001B[39m SparkSession(sc, options\u001B[38;5;241m=\u001B[39m\u001B[38;5;28mself\u001B[39m\u001B[38;5;241m.\u001B[39m_options)\n",
      "File \u001B[0;32m~/PycharmProjects/pythonProject/venv/lib/python3.8/site-packages/pyspark/context.py:483\u001B[0m, in \u001B[0;36mSparkContext.getOrCreate\u001B[0;34m(cls, conf)\u001B[0m\n\u001B[1;32m    481\u001B[0m \u001B[38;5;28;01mwith\u001B[39;00m SparkContext\u001B[38;5;241m.\u001B[39m_lock:\n\u001B[1;32m    482\u001B[0m     \u001B[38;5;28;01mif\u001B[39;00m SparkContext\u001B[38;5;241m.\u001B[39m_active_spark_context \u001B[38;5;129;01mis\u001B[39;00m \u001B[38;5;28;01mNone\u001B[39;00m:\n\u001B[0;32m--> 483\u001B[0m         \u001B[43mSparkContext\u001B[49m\u001B[43m(\u001B[49m\u001B[43mconf\u001B[49m\u001B[38;5;241;43m=\u001B[39;49m\u001B[43mconf\u001B[49m\u001B[43m \u001B[49m\u001B[38;5;129;43;01mor\u001B[39;49;00m\u001B[43m \u001B[49m\u001B[43mSparkConf\u001B[49m\u001B[43m(\u001B[49m\u001B[43m)\u001B[49m\u001B[43m)\u001B[49m\n\u001B[1;32m    484\u001B[0m     \u001B[38;5;28;01massert\u001B[39;00m SparkContext\u001B[38;5;241m.\u001B[39m_active_spark_context \u001B[38;5;129;01mis\u001B[39;00m \u001B[38;5;129;01mnot\u001B[39;00m \u001B[38;5;28;01mNone\u001B[39;00m\n\u001B[1;32m    485\u001B[0m     \u001B[38;5;28;01mreturn\u001B[39;00m SparkContext\u001B[38;5;241m.\u001B[39m_active_spark_context\n",
      "File \u001B[0;32m~/PycharmProjects/pythonProject/venv/lib/python3.8/site-packages/pyspark/context.py:195\u001B[0m, in \u001B[0;36mSparkContext.__init__\u001B[0;34m(self, master, appName, sparkHome, pyFiles, environment, batchSize, serializer, conf, gateway, jsc, profiler_cls, udf_profiler_cls)\u001B[0m\n\u001B[1;32m    189\u001B[0m \u001B[38;5;28;01mif\u001B[39;00m gateway \u001B[38;5;129;01mis\u001B[39;00m \u001B[38;5;129;01mnot\u001B[39;00m \u001B[38;5;28;01mNone\u001B[39;00m \u001B[38;5;129;01mand\u001B[39;00m gateway\u001B[38;5;241m.\u001B[39mgateway_parameters\u001B[38;5;241m.\u001B[39mauth_token \u001B[38;5;129;01mis\u001B[39;00m \u001B[38;5;28;01mNone\u001B[39;00m:\n\u001B[1;32m    190\u001B[0m     \u001B[38;5;28;01mraise\u001B[39;00m \u001B[38;5;167;01mValueError\u001B[39;00m(\n\u001B[1;32m    191\u001B[0m         \u001B[38;5;124m\"\u001B[39m\u001B[38;5;124mYou are trying to pass an insecure Py4j gateway to Spark. This\u001B[39m\u001B[38;5;124m\"\u001B[39m\n\u001B[1;32m    192\u001B[0m         \u001B[38;5;124m\"\u001B[39m\u001B[38;5;124m is not allowed as it is a security risk.\u001B[39m\u001B[38;5;124m\"\u001B[39m\n\u001B[1;32m    193\u001B[0m     )\n\u001B[0;32m--> 195\u001B[0m \u001B[43mSparkContext\u001B[49m\u001B[38;5;241;43m.\u001B[39;49m\u001B[43m_ensure_initialized\u001B[49m\u001B[43m(\u001B[49m\u001B[38;5;28;43mself\u001B[39;49m\u001B[43m,\u001B[49m\u001B[43m \u001B[49m\u001B[43mgateway\u001B[49m\u001B[38;5;241;43m=\u001B[39;49m\u001B[43mgateway\u001B[49m\u001B[43m,\u001B[49m\u001B[43m \u001B[49m\u001B[43mconf\u001B[49m\u001B[38;5;241;43m=\u001B[39;49m\u001B[43mconf\u001B[49m\u001B[43m)\u001B[49m\n\u001B[1;32m    196\u001B[0m \u001B[38;5;28;01mtry\u001B[39;00m:\n\u001B[1;32m    197\u001B[0m     \u001B[38;5;28mself\u001B[39m\u001B[38;5;241m.\u001B[39m_do_init(\n\u001B[1;32m    198\u001B[0m         master,\n\u001B[1;32m    199\u001B[0m         appName,\n\u001B[0;32m   (...)\u001B[0m\n\u001B[1;32m    208\u001B[0m         udf_profiler_cls,\n\u001B[1;32m    209\u001B[0m     )\n",
      "File \u001B[0;32m~/PycharmProjects/pythonProject/venv/lib/python3.8/site-packages/pyspark/context.py:417\u001B[0m, in \u001B[0;36mSparkContext._ensure_initialized\u001B[0;34m(cls, instance, gateway, conf)\u001B[0m\n\u001B[1;32m    415\u001B[0m \u001B[38;5;28;01mwith\u001B[39;00m SparkContext\u001B[38;5;241m.\u001B[39m_lock:\n\u001B[1;32m    416\u001B[0m     \u001B[38;5;28;01mif\u001B[39;00m \u001B[38;5;129;01mnot\u001B[39;00m SparkContext\u001B[38;5;241m.\u001B[39m_gateway:\n\u001B[0;32m--> 417\u001B[0m         SparkContext\u001B[38;5;241m.\u001B[39m_gateway \u001B[38;5;241m=\u001B[39m gateway \u001B[38;5;129;01mor\u001B[39;00m \u001B[43mlaunch_gateway\u001B[49m\u001B[43m(\u001B[49m\u001B[43mconf\u001B[49m\u001B[43m)\u001B[49m\n\u001B[1;32m    418\u001B[0m         SparkContext\u001B[38;5;241m.\u001B[39m_jvm \u001B[38;5;241m=\u001B[39m SparkContext\u001B[38;5;241m.\u001B[39m_gateway\u001B[38;5;241m.\u001B[39mjvm\n\u001B[1;32m    420\u001B[0m     \u001B[38;5;28;01mif\u001B[39;00m instance:\n",
      "File \u001B[0;32m~/PycharmProjects/pythonProject/venv/lib/python3.8/site-packages/pyspark/java_gateway.py:106\u001B[0m, in \u001B[0;36mlaunch_gateway\u001B[0;34m(conf, popen_kwargs)\u001B[0m\n\u001B[1;32m    103\u001B[0m     time\u001B[38;5;241m.\u001B[39msleep(\u001B[38;5;241m0.1\u001B[39m)\n\u001B[1;32m    105\u001B[0m \u001B[38;5;28;01mif\u001B[39;00m \u001B[38;5;129;01mnot\u001B[39;00m os\u001B[38;5;241m.\u001B[39mpath\u001B[38;5;241m.\u001B[39misfile(conn_info_file):\n\u001B[0;32m--> 106\u001B[0m     \u001B[38;5;28;01mraise\u001B[39;00m \u001B[38;5;167;01mRuntimeError\u001B[39;00m(\u001B[38;5;124m\"\u001B[39m\u001B[38;5;124mJava gateway process exited before sending its port number\u001B[39m\u001B[38;5;124m\"\u001B[39m)\n\u001B[1;32m    108\u001B[0m \u001B[38;5;28;01mwith\u001B[39;00m \u001B[38;5;28mopen\u001B[39m(conn_info_file, \u001B[38;5;124m\"\u001B[39m\u001B[38;5;124mrb\u001B[39m\u001B[38;5;124m\"\u001B[39m) \u001B[38;5;28;01mas\u001B[39;00m info:\n\u001B[1;32m    109\u001B[0m     gateway_port \u001B[38;5;241m=\u001B[39m read_int(info)\n",
      "\u001B[0;31mRuntimeError\u001B[0m: Java gateway process exited before sending its port number"
     ]
    }
   ],
   "source": [
    "from pyspark.sql import SparkSession\n",
    "from pyspark.sql.types import *\n",
    "from pyspark.sql.functions import col, array_contains\n",
    "import pyspark\n",
    "import re\n",
    "from pyspark.sql.functions import collect_set\n",
    "from pyspark.sql.functions import collect_list\n",
    "from pyspark.sql.functions import concat_ws\n",
    "import os\n",
    "\n",
    "os.environ['PYSPARK_SUBMIT_ARGS'] = 'spark-shell --packages com.databricks:spark-xml_2.11:0.12.0'\n",
    "\n",
    "spark = SparkSession.builder.master('local[*]').appName('VINF').getOrCreate()"
   ]
  },
  {
   "cell_type": "code",
   "execution_count": null,
   "id": "2f68e3d9",
   "metadata": {
    "pycharm": {
     "name": "#%%\n"
    }
   },
   "outputs": [],
   "source": [
    "df = spark.read.format(\"com.databricks.spark.xml\").load('freebase-head-10000000')"
   ]
  },
  {
   "cell_type": "code",
   "execution_count": 89,
   "id": "901f0ffe",
   "metadata": {
    "pycharm": {
     "name": "#%%\n"
    }
   },
   "outputs": [],
   "source": [
    "book_regex = \"^book\\.book$\"\n",
    "\n",
    "book_editions_regex = \"^book\\.book\\.editions$\"\n",
    "book_edition_regex = \"book\\.book_edition\"\n",
    "book_author_regex = \"book\\.written_work\\.author\"\n",
    "book_author = \"book\\.author\"\n",
    "book_genre_regex = \"book\\.book\\.genre\"\n",
    "name_regex = \"type\\.object\\.name\"\n",
    "year_of_publication = \"book.written_work.date_of_first_publication\"\n",
    "description_regex = \"common.topic.description\"\n",
    "alias_regex = \"common.topic.alias\"\n",
    "isbn_regex = \"media_common.cataloged_instance.isbn13\"\n",
    "publication_date_regex = \"book.book_edition.publication_date\"\n",
    "en_string = \"@en$\"\n",
    "\n",
    "remove_pattern = '(http\\:\\/\\/rdf.freebase.com\\/ns\\/)|(\\^\\^.*)|(\\@.*\\.)|(\\<)|(\\>)|(\\\")|(\\t\\.)'\n",
    "file_path = \"./freebase-head-10000000\""
   ]
  },
  {
   "cell_type": "code",
   "execution_count": 90,
   "id": "72117577",
   "metadata": {
    "pycharm": {
     "name": "#%%\n"
    }
   },
   "outputs": [],
   "source": [
    "rdd = spark.sparkContext.textFile(file_path)"
   ]
  },
  {
   "cell_type": "code",
   "execution_count": 91,
   "id": "ee731e0b",
   "metadata": {
    "pycharm": {
     "name": "#%%\n"
    }
   },
   "outputs": [],
   "source": [
    "all_rdd = rdd.map(lambda x: re.sub('\\t\\.', '', x)) \\\n",
    "    .map(lambda x: re.sub(remove_pattern, '', x)) \\\n",
    "    .map(lambda x: x.split('\\t'))\n",
    "#     .map(lambda x: [x[0], x[1], re.sub(\"\\\\\\\"((\\d+-?)+)\\\\\\\".+XMLSchema.+\", r\"\\1\", x[2])])"
   ]
  },
  {
   "cell_type": "code",
   "execution_count": 92,
   "id": "eb2391d3",
   "metadata": {
    "pycharm": {
     "name": "#%%\n"
    }
   },
   "outputs": [],
   "source": [
    "schema = StructType([StructField('subject', StringType(), False),\n",
    "                StructField('predicate', StringType(), False),\n",
    "                StructField('object', StringType(), False)])"
   ]
  },
  {
   "cell_type": "markdown",
   "id": "4a2883b9",
   "metadata": {
    "pycharm": {
     "name": "#%% md\n"
    }
   },
   "source": [
    "## Book editions"
   ]
  },
  {
   "cell_type": "code",
   "execution_count": 93,
   "id": "e87b9be6",
   "metadata": {
    "pycharm": {
     "name": "#%%\n"
    }
   },
   "outputs": [],
   "source": [
    "book_editions_rdd = all_rdd.filter(lambda x: re.search(book_edition_regex, x[2]))"
   ]
  },
  {
   "cell_type": "code",
   "execution_count": 94,
   "id": "f2898701",
   "metadata": {
    "pycharm": {
     "name": "#%%\n"
    }
   },
   "outputs": [],
   "source": [
    "book_edition_columns = all_rdd.filter(lambda x: (re.search(name_regex, x[1]) and re.search(en_string, x[2])) or re.search(isbn_regex, x[1]) or re.search(publication_date_regex, x[1]))"
   ]
  },
  {
   "cell_type": "code",
   "execution_count": 95,
   "id": "0e6505d8",
   "metadata": {
    "pycharm": {
     "name": "#%%\n"
    }
   },
   "outputs": [],
   "source": [
    "book_editions_id_df = spark.createDataFrame(book_editions_rdd, schema = schema).select('subject').distinct()"
   ]
  },
  {
   "cell_type": "code",
   "execution_count": 96,
   "id": "8a2ae744",
   "metadata": {
    "pycharm": {
     "name": "#%%\n"
    }
   },
   "outputs": [],
   "source": [
    "book_editions_id_df = book_editions_id_df.dropDuplicates()"
   ]
  },
  {
   "cell_type": "code",
   "execution_count": 97,
   "id": "073d93b3",
   "metadata": {
    "pycharm": {
     "name": "#%%\n"
    }
   },
   "outputs": [],
   "source": [
    "book_edition_columns_df = spark.createDataFrame(book_edition_columns, schema = schema)"
   ]
  },
  {
   "cell_type": "code",
   "execution_count": 98,
   "id": "6630312f",
   "metadata": {
    "pycharm": {
     "name": "#%%\n"
    }
   },
   "outputs": [],
   "source": [
    "book_editions_id_df.createOrReplaceTempView(\"book_editions_id\")"
   ]
  },
  {
   "cell_type": "code",
   "execution_count": 99,
   "id": "acd673b7",
   "metadata": {
    "pycharm": {
     "name": "#%%\n"
    }
   },
   "outputs": [],
   "source": [
    "book_edition_columns_df.createOrReplaceTempView(\"book_editions_columns\")"
   ]
  },
  {
   "cell_type": "code",
   "execution_count": 100,
   "id": "c3bf4031",
   "metadata": {
    "pycharm": {
     "name": "#%%\n"
    }
   },
   "outputs": [],
   "source": [
    "books_editions_dataframe = spark.sql(\"\"\"\n",
    "    SELECT book_editions_id.subject, book_editions_columns.predicate, book_editions_columns.object\n",
    "    from book_editions_id\n",
    "    LEFT JOIN book_editions_columns on book_editions_id.subject == book_editions_columns.subject\n",
    "    ORDER BY book_editions_id.subject\n",
    "\"\"\")"
   ]
  },
  {
   "cell_type": "code",
   "execution_count": 101,
   "id": "c873fbcf",
   "metadata": {
    "pycharm": {
     "name": "#%%\n"
    }
   },
   "outputs": [
    {
     "name": "stderr",
     "output_type": "stream",
     "text": [
      "                                                                                \r"
     ]
    },
    {
     "name": "stdout",
     "output_type": "stream",
     "text": [
      "+----------+--------------------------------------+-----------------------------------------------------------------------------------------------+\n",
      "|subject   |predicate                             |object                                                                                         |\n",
      "+----------+--------------------------------------+-----------------------------------------------------------------------------------------------+\n",
      "|m.0101nvp6|book.book_edition.publication_date    |2014-03-18                                                                                     |\n",
      "|m.0101nvp6|media_common.cataloged_instance.isbn13|9781455599509                                                                                  |\n",
      "|m.0101nvp6|type.object.name                      |You Should Have Known@en                                                                       |\n",
      "|m.010pjrs8|type.object.name                      |Nathan Hale's Hazardous Tales: Treaties, Trenches, Mud, and Blood@en                           |\n",
      "|m.010pjrs8|media_common.cataloged_instance.isbn13|9781419708084                                                                                  |\n",
      "|m.010r2vyh|media_common.cataloged_instance.isbn13|9781603843782                                                                                  |\n",
      "|m.010r2vyh|type.object.name                      |The essential Jefferson@en                                                                     |\n",
      "|m.010r2vyh|book.book_edition.publication_date    |1963                                                                                           |\n",
      "|m.0111ch4c|type.object.name                      |Craft@en                                                                                       |\n",
      "|m.011474x4|media_common.cataloged_instance.isbn13|9781400069729                                                                                  |\n",
      "|m.011474x4|type.object.name                      |Fierce Patriot: The Tangled Lives of William Tecumseh Sherman@en                               |\n",
      "|m.0118p317|media_common.cataloged_instance.isbn13|9781605983981                                                                                  |\n",
      "|m.0118p317|type.object.name                      |The Art of Betrayal: The Secret History of MI6: Life and Death in the British Secret Service@en|\n",
      "|m.011rzszg|media_common.cataloged_instance.isbn13|9781420127164                                                                                  |\n",
      "|m.011rzszg|type.object.name                      |Not Quite a Wife@en                                                                            |\n",
      "|m.011xb509|media_common.cataloged_instance.isbn13|9781451697407                                                                                  |\n",
      "|m.011xb509|type.object.name                      |This Changes Everything: Capitalism vs. The Climate@en                                         |\n",
      "|m.012c3dq0|type.object.name                      |Conflict at Rome: social order and hierarchy in early Christianity@en                          |\n",
      "|m.012c3dq0|media_common.cataloged_instance.isbn13|9780800624699                                                                                  |\n",
      "|m.012c3dq0|book.book_edition.publication_date    |1991                                                                                           |\n",
      "+----------+--------------------------------------+-----------------------------------------------------------------------------------------------+\n",
      "only showing top 20 rows\n",
      "\n"
     ]
    }
   ],
   "source": [
    "books_editions_dataframe.show(truncate=False)"
   ]
  },
  {
   "cell_type": "code",
   "execution_count": 103,
   "id": "fca42a1f",
   "metadata": {
    "pycharm": {
     "name": "#%%\n"
    }
   },
   "outputs": [
    {
     "name": "stderr",
     "output_type": "stream",
     "text": [
      "                                                                                \r"
     ]
    }
   ],
   "source": [
    "book_editions_grouped = books_editions_dataframe.groupBy(['subject', 'predicate']).agg(collect_list('object').alias('object'))\n",
    "\n",
    "book_editions_rdd = book_editions_grouped.rdd\n",
    "book_editions_rdd = book_editions_rdd.map(lambda x: (x[0], (x[1], x[2])))\n",
    "book_editions_rdd = book_editions_rdd.groupByKey().map(lambda x: (x[0], { '\\''+str(name)+'\\'' + ':' + str(value) for name, value in list(x[1])}))\n",
    "\n",
    "book_editions_dictionary = book_editions_rdd.collect()\n",
    "\n",
    "schema_id = StructType([ \\\n",
    "    StructField(\"id\",StringType(),False), \\\n",
    "    StructField(\"properties\",StringType(),True)\n",
    "  ])\n",
    "\n",
    "book_editions_df = spark.createDataFrame(data=book_editions_dictionary, schema = schema_id)\n",
    "# book_editions_df = spark.createDataFrame(data=book_editions_dictionary, schema = [\"id\",\"properties\"])\n",
    "\n",
    "\n",
    "# book_editions_df.printSchema()\n",
    "# book_editions_df.show(truncate=False)\n",
    "book_editions_df.createOrReplaceTempView(\"book_editions_json\")"
   ]
  },
  {
   "cell_type": "markdown",
   "id": "ef78b128",
   "metadata": {
    "pycharm": {
     "name": "#%% md\n"
    }
   },
   "source": [
    "## Authors and genres table"
   ]
  },
  {
   "cell_type": "code",
   "execution_count": 104,
   "id": "7d71ae57",
   "metadata": {
    "pycharm": {
     "name": "#%%\n"
    }
   },
   "outputs": [],
   "source": [
    "author_columns = all_rdd.filter(lambda x: (re.search(name_regex, x[1]) and re.search(en_string, x[2])))"
   ]
  },
  {
   "cell_type": "code",
   "execution_count": 105,
   "id": "ecb6c891",
   "metadata": {
    "pycharm": {
     "name": "#%%\n"
    }
   },
   "outputs": [],
   "source": [
    "author_genres_ids_rdd = all_rdd.filter(lambda x: re.search(book_author, x[2]) or re.search(book_genre_regex, x[2]))"
   ]
  },
  {
   "cell_type": "code",
   "execution_count": 106,
   "id": "f596af4a",
   "metadata": {
    "pycharm": {
     "name": "#%%\n"
    }
   },
   "outputs": [],
   "source": [
    "author_genres_book_df = spark.createDataFrame(author_genres_ids_rdd, schema = schema).select('subject').distinct()\n",
    "\n",
    "author_df = spark.createDataFrame(author_columns, schema = schema)\n",
    "\n",
    "author_df = author_df.dropDuplicates()"
   ]
  },
  {
   "cell_type": "code",
   "execution_count": 107,
   "id": "643d0130",
   "metadata": {
    "pycharm": {
     "name": "#%%\n"
    }
   },
   "outputs": [],
   "source": [
    "author_df = author_df.dropDuplicates()"
   ]
  },
  {
   "cell_type": "code",
   "execution_count": 108,
   "id": "a4975cd0",
   "metadata": {
    "pycharm": {
     "name": "#%%\n"
    }
   },
   "outputs": [],
   "source": [
    "author_df.createOrReplaceTempView(\"AUTHOR_COLUMNS\")"
   ]
  },
  {
   "cell_type": "code",
   "execution_count": 109,
   "id": "55ebd18e",
   "metadata": {
    "pycharm": {
     "name": "#%%\n"
    }
   },
   "outputs": [],
   "source": [
    "author_genres_book_df.createOrReplaceTempView(\"AUTHOR_DATA\")"
   ]
  },
  {
   "cell_type": "code",
   "execution_count": 110,
   "id": "50d4fad0",
   "metadata": {
    "pycharm": {
     "name": "#%%\n"
    }
   },
   "outputs": [],
   "source": [
    "author_dataframe = spark.sql(\"\"\"\n",
    "    SELECT AUTHOR_DATA.subject, AUTHOR_COLUMNS.predicate, AUTHOR_COLUMNS.object\n",
    "    from AUTHOR_DATA\n",
    "    LEFT JOIN AUTHOR_COLUMNS on AUTHOR_DATA.subject == AUTHOR_COLUMNS.subject\n",
    "    ORDER BY AUTHOR_DATA.subject\n",
    "\"\"\")"
   ]
  },
  {
   "cell_type": "code",
   "execution_count": 111,
   "id": "7b9616aa",
   "metadata": {
    "pycharm": {
     "name": "#%%\n"
    }
   },
   "outputs": [],
   "source": [
    "authors_grouped = author_dataframe.groupBy(['subject']).agg(collect_list('object').alias('object'))\n",
    "\n",
    "# authors_grouped.show(1, False, True)"
   ]
  },
  {
   "cell_type": "code",
   "execution_count": 112,
   "id": "ac8ab7e4",
   "metadata": {
    "pycharm": {
     "name": "#%%\n"
    }
   },
   "outputs": [],
   "source": [
    "authors_grouped.createOrReplaceTempView(\"AUTHOR_GENRE_NAMES\")"
   ]
  },
  {
   "cell_type": "markdown",
   "id": "e6593e74",
   "metadata": {
    "pycharm": {
     "name": "#%% md\n"
    }
   },
   "source": [
    "## Book table"
   ]
  },
  {
   "cell_type": "code",
   "execution_count": 113,
   "id": "22ffe869",
   "metadata": {
    "pycharm": {
     "name": "#%%\n"
    }
   },
   "outputs": [],
   "source": [
    "book_ids_rdd = all_rdd.filter(lambda x: re.search(book_regex, x[2]))"
   ]
  },
  {
   "cell_type": "code",
   "execution_count": 114,
   "id": "05239586",
   "metadata": {
    "pycharm": {
     "name": "#%%\n"
    }
   },
   "outputs": [],
   "source": [
    "book_columns = all_rdd.filter(lambda x: re.search(book_editions_regex, x[1]) or re.search(book_author_regex, x[1]) or re.search(book_genre_regex, x[1]) or (re.search(name_regex, x[1]) and re.search(en_string, x[2])) or re.search(year_of_publication, x[1]) or (re.search(description_regex, x[1]) and re.search(en_string, x[2])))"
   ]
  },
  {
   "cell_type": "code",
   "execution_count": 115,
   "id": "3f04aaf4",
   "metadata": {
    "pycharm": {
     "name": "#%%\n"
    }
   },
   "outputs": [],
   "source": [
    "book_id_df = spark.createDataFrame(book_ids_rdd, schema = schema).select('subject').distinct()"
   ]
  },
  {
   "cell_type": "code",
   "execution_count": 116,
   "id": "ca472641",
   "metadata": {
    "pycharm": {
     "name": "#%%\n"
    }
   },
   "outputs": [],
   "source": [
    "book_df = spark.createDataFrame(book_columns, schema = schema)"
   ]
  },
  {
   "cell_type": "code",
   "execution_count": 117,
   "id": "640b1a3c",
   "metadata": {
    "pycharm": {
     "name": "#%%\n"
    }
   },
   "outputs": [],
   "source": [
    "book_df = book_df.dropDuplicates()"
   ]
  },
  {
   "cell_type": "code",
   "execution_count": 118,
   "id": "b01c925b",
   "metadata": {
    "pycharm": {
     "name": "#%%\n"
    }
   },
   "outputs": [],
   "source": [
    "book_df.createOrReplaceTempView(\"BOOK_COLUMNS\")"
   ]
  },
  {
   "cell_type": "code",
   "execution_count": 119,
   "id": "4667efda",
   "metadata": {
    "pycharm": {
     "name": "#%%\n"
    }
   },
   "outputs": [],
   "source": [
    "book_id_df.createOrReplaceTempView(\"BOOK_ID\")"
   ]
  },
  {
   "cell_type": "code",
   "execution_count": 120,
   "id": "3654a0a8",
   "metadata": {
    "pycharm": {
     "name": "#%%\n"
    }
   },
   "outputs": [],
   "source": [
    "books_dataframe = spark.sql(\"\"\"\n",
    "    SELECT BOOK_ID.subject, BOOK_COLUMNS.predicate, BOOK_COLUMNS.object\n",
    "    from BOOK_ID\n",
    "    JOIN BOOK_COLUMNS on BOOK_ID.subject == BOOK_COLUMNS.subject\n",
    "    ORDER BY BOOK_ID.subject\n",
    "\"\"\")"
   ]
  },
  {
   "cell_type": "code",
   "execution_count": 121,
   "id": "0764073b",
   "metadata": {
    "pycharm": {
     "name": "#%%\n"
    }
   },
   "outputs": [],
   "source": [
    "books_dataframe.createOrReplaceTempView(\"BOOK_DATA\")"
   ]
  },
  {
   "cell_type": "code",
   "execution_count": 122,
   "id": "5a26a8c6",
   "metadata": {
    "pycharm": {
     "name": "#%%\n"
    }
   },
   "outputs": [],
   "source": [
    "books_grouped = books_dataframe.groupBy(['subject', 'predicate']).agg(collect_list('object').alias('object'))\n",
    "\n",
    "# books_grouped.show(1, False, True)"
   ]
  },
  {
   "cell_type": "code",
   "execution_count": 123,
   "id": "b3e9363f",
   "metadata": {
    "pycharm": {
     "name": "#%%\n"
    }
   },
   "outputs": [],
   "source": [
    "# grouped_rdd = books_grouped.rdd"
   ]
  },
  {
   "cell_type": "code",
   "execution_count": 124,
   "id": "5c9e89a4",
   "metadata": {
    "pycharm": {
     "name": "#%%\n"
    }
   },
   "outputs": [],
   "source": [
    "# grouped_rdd = books_grouped.rdd\n",
    "# grouped_rdd2 = grouped_rdd.map(lambda x: (x[0], (x[1], x[2])))\n",
    "# grouped_rdd2.collect()"
   ]
  },
  {
   "cell_type": "code",
   "execution_count": 125,
   "id": "6f24caeb",
   "metadata": {
    "pycharm": {
     "name": "#%%\n"
    }
   },
   "outputs": [],
   "source": [
    "# grouped_rdd3 = grouped_rdd2.groupByKey().map(lambda x: (x[0], { name:value for name, value in list(x[1])}))\n",
    "# grouped_rdd3.collect()"
   ]
  },
  {
   "cell_type": "code",
   "execution_count": 126,
   "id": "3f207cbc",
   "metadata": {
    "pycharm": {
     "name": "#%%\n"
    }
   },
   "outputs": [],
   "source": [
    "# dictionary_data = grouped_rdd3.collect()"
   ]
  },
  {
   "cell_type": "markdown",
   "id": "85b5652f",
   "metadata": {
    "pycharm": {
     "name": "#%% md\n"
    }
   },
   "source": [
    "## Spojenie zaznamov\n",
    "\n"
   ]
  },
  {
   "cell_type": "code",
   "execution_count": 127,
   "id": "bbd8b934",
   "metadata": {
    "pycharm": {
     "name": "#%%\n"
    }
   },
   "outputs": [],
   "source": [
    "books_dataframe = spark.sql(\"\"\"\n",
    "    SELECT BOOK_DATA.subject, BOOK_DATA.predicate, \n",
    "    CASE \n",
    "        when AUTHOR_GENRE_NAMES.subject is not null then (cast(AUTHOR_GENRE_NAMES.object as STRING))\n",
    "        when book_editions_json.id is not null then book_editions_json.properties\n",
    "        when AUTHOR_GENRE_NAMES.subject is null and book_editions_json.id is null then BOOK_DATA.object\n",
    "    end as object\n",
    "    from BOOK_DATA\n",
    "    LEFT JOIN AUTHOR_GENRE_NAMES on BOOK_DATA.object == AUTHOR_GENRE_NAMES.subject\n",
    "    LEFT JOIN book_editions_json on BOOK_DATA.object == book_editions_json.id\n",
    "    ORDER BY BOOK_DATA.subject\n",
    "\"\"\")"
   ]
  },
  {
   "cell_type": "code",
   "execution_count": 128,
   "id": "b87c26d4",
   "metadata": {
    "pycharm": {
     "name": "#%%\n"
    }
   },
   "outputs": [
    {
     "name": "stderr",
     "output_type": "stream",
     "text": [
      "                                                                                \r"
     ]
    }
   ],
   "source": [
    "books_grouped = books_dataframe.groupBy(['subject', 'predicate']).agg(collect_list('object').alias('object'))\n",
    "grouped_rdd = books_grouped.rdd\n",
    "grouped_rdd = grouped_rdd.map(lambda x: (x[0], (x[1], x[2])))\n",
    "grouped_rdd = grouped_rdd.groupByKey().map(lambda x: {x[0]: { name:value for name, value in list(x[1])}})"
   ]
  },
  {
   "cell_type": "code",
   "execution_count": 129,
   "id": "fecda26b",
   "metadata": {
    "pycharm": {
     "name": "#%%\n"
    }
   },
   "outputs": [],
   "source": [
    "# grouped_rdd.collect()"
   ]
  },
  {
   "cell_type": "code",
   "execution_count": 130,
   "id": "6888c131",
   "metadata": {
    "pycharm": {
     "name": "#%%\n"
    }
   },
   "outputs": [
    {
     "name": "stderr",
     "output_type": "stream",
     "text": [
      "                                                                                \r"
     ]
    }
   ],
   "source": [
    "grouped_rdd.coalesce(1, True).saveAsTextFile('outputs10m')"
   ]
  },
  {
   "cell_type": "markdown",
   "id": "a1d9c5b8",
   "metadata": {
    "pycharm": {
     "name": "#%% md\n"
    }
   },
   "source": [
    "# Koniec prvej casti"
   ]
  },
  {
   "cell_type": "code",
   "execution_count": null,
   "id": "944a3965",
   "metadata": {
    "pycharm": {
     "name": "#%%\n"
    }
   },
   "outputs": [],
   "source": []
  }
 ],
 "metadata": {
  "kernelspec": {
   "display_name": "Python 3 (ipykernel)",
   "language": "python",
   "name": "python3"
  },
  "language_info": {
   "codemirror_mode": {
    "name": "ipython",
    "version": 3
   },
   "file_extension": ".py",
   "mimetype": "text/x-python",
   "name": "python",
   "nbconvert_exporter": "python",
   "pygments_lexer": "ipython3",
   "version": "3.8.9"
  }
 },
 "nbformat": 4,
 "nbformat_minor": 5
}